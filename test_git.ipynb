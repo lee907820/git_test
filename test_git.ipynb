{
  "nbformat": 4,
  "nbformat_minor": 0,
  "metadata": {
    "colab": {
      "provenance": [],
      "mount_file_id": "1KgKxnyEAjoUZ-Pu9D5tFuuDOT7tIhTEK",
      "authorship_tag": "ABX9TyNAWeBpfw1b5Hxub5MX91ft",
      "include_colab_link": true
    },
    "kernelspec": {
      "name": "python3",
      "display_name": "Python 3"
    },
    "language_info": {
      "name": "python"
    },
    "accelerator": "GPU",
    "gpuClass": "standard"
  },
  "cells": [
    {
      "cell_type": "markdown",
      "metadata": {
        "id": "view-in-github",
        "colab_type": "text"
      },
      "source": [
        "<a href=\"https://colab.research.google.com/github/lee907820/git_test/blob/main/test_git.ipynb\" target=\"_parent\"><img src=\"https://colab.research.google.com/assets/colab-badge.svg\" alt=\"Open In Colab\"/></a>"
      ]
    },
    {
      "cell_type": "markdown",
      "source": [
        "구글 colab에서 코드작성하고 git에 올리기\n",
        "1. git에서 프로젝트를 만든다. (repository)\n",
        "2. git에서 branch 를 가지는 파일을 만들다.\n",
        "- 최초 파일을 branch 만들기 위해서 github에 만든다. \n",
        "  - colab에서 만들어 올릴 수 없음\n",
        "3. colab에서 파일을 읽어온다.(pull)\n",
        "\n",
        "\n"
      ],
      "metadata": {
        "id": "mJdaU6L86Ane"
      }
    },
    {
      "cell_type": "code",
      "source": [
        "https://github.com/lee907820/git_test.git"
      ],
      "metadata": {
        "colab": {
          "base_uri": "https://localhost:8080/",
          "height": 138
        },
        "id": "c3JyB4mZ38Es",
        "outputId": "8ee67f1c-0aff-4707-bf2e-eb5f2b1fff13"
      },
      "execution_count": null,
      "outputs": [
        {
          "output_type": "error",
          "ename": "SyntaxError",
          "evalue": "ignored",
          "traceback": [
            "\u001b[0;36m  File \u001b[0;32m\"<ipython-input-1-1e862a2c3481>\"\u001b[0;36m, line \u001b[0;32m1\u001b[0m\n\u001b[0;31m    https://github.com/lee907820/git_test.git\u001b[0m\n\u001b[0m          ^\u001b[0m\n\u001b[0;31mSyntaxError\u001b[0m\u001b[0;31m:\u001b[0m invalid syntax\n"
          ]
        }
      ]
    },
    {
      "cell_type": "code",
      "execution_count": null,
      "metadata": {
        "id": "Idf7vFCovRnz",
        "colab": {
          "base_uri": "https://localhost:8080/"
        },
        "outputId": "4c9af305-c60c-433d-ba55-24e9d8c273b5"
      },
      "outputs": [
        {
          "output_type": "stream",
          "name": "stdout",
          "text": [
            "6\n"
          ]
        }
      ],
      "source": [
        "#@title Colab coding test\n",
        "i = 6 #@param {type:\"integer\"}\n",
        "print(i)\n",
        "\n"
      ]
    },
    {
      "cell_type": "code",
      "source": [],
      "metadata": {
        "id": "RAMXhsfEGMM6"
      },
      "execution_count": null,
      "outputs": []
    },
    {
      "cell_type": "markdown",
      "source": [
        "# 새 섹션"
      ],
      "metadata": {
        "id": "S0rDt4L_xTnd"
      }
    },
    {
      "cell_type": "markdown",
      "source": [
        "# 새 섹션"
      ],
      "metadata": {
        "id": "WiEoDX9BxUJC"
      }
    }
  ]
}